{
 "cells": [
  {
   "cell_type": "code",
   "execution_count": 1,
   "metadata": {},
   "outputs": [
    {
     "name": "stderr",
     "output_type": "stream",
     "text": [
      "2022-12-09 18:08:57.056508: I tensorflow/core/platform/cpu_feature_guard.cc:193] This TensorFlow binary is optimized with oneAPI Deep Neural Network Library (oneDNN) to use the following CPU instructions in performance-critical operations:  AVX2 AVX512F AVX512_VNNI FMA\n",
      "To enable them in other operations, rebuild TensorFlow with the appropriate compiler flags.\n",
      "2022-12-09 18:08:57.456151: I tensorflow/core/util/util.cc:169] oneDNN custom operations are on. You may see slightly different numerical results due to floating-point round-off errors from different computation orders. To turn them off, set the environment variable `TF_ENABLE_ONEDNN_OPTS=0`.\n",
      "2022-12-09 18:08:57.466680: W tensorflow/stream_executor/platform/default/dso_loader.cc:64] Could not load dynamic library 'libcudart.so.11.0'; dlerror: libcudart.so.11.0: cannot open shared object file: No such file or directory\n",
      "2022-12-09 18:08:57.466712: I tensorflow/stream_executor/cuda/cudart_stub.cc:29] Ignore above cudart dlerror if you do not have a GPU set up on your machine.\n",
      "2022-12-09 18:08:57.519774: E tensorflow/stream_executor/cuda/cuda_blas.cc:2981] Unable to register cuBLAS factory: Attempting to register factory for plugin cuBLAS when one has already been registered\n",
      "2022-12-09 18:09:03.988495: W tensorflow/stream_executor/platform/default/dso_loader.cc:64] Could not load dynamic library 'libnvinfer.so.7'; dlerror: libnvinfer.so.7: cannot open shared object file: No such file or directory\n",
      "2022-12-09 18:09:03.988721: W tensorflow/stream_executor/platform/default/dso_loader.cc:64] Could not load dynamic library 'libnvinfer_plugin.so.7'; dlerror: libnvinfer_plugin.so.7: cannot open shared object file: No such file or directory\n",
      "2022-12-09 18:09:03.988742: W tensorflow/compiler/tf2tensorrt/utils/py_utils.cc:38] TF-TRT Warning: Cannot dlopen some TensorRT libraries. If you would like to use Nvidia GPU with TensorRT, please make sure the missing libraries mentioned above are installed properly.\n"
     ]
    }
   ],
   "source": [
    "import tensorflow as tf\n",
    "from tensorflow.keras import Model\n",
    "from keras.layers import Dense, Input, Activation\n",
    "from tensorflow.keras.callbacks import EarlyStopping\n",
    "from tensorflow.keras.optimizers import Adam\n",
    "\n",
    "%matplotlib inline\n",
    "import matplotlib.pyplot as plt\n",
    "from scipy.stats import norm\n",
    "import numpy as np\n",
    "import pandas as pd\n",
    "import math\n",
    "import seaborn as sns"
   ]
  },
  {
   "cell_type": "code",
   "execution_count": 2,
   "metadata": {},
   "outputs": [],
   "source": [
    "train_df = pd.read_csv('train_1Dx.csv',nrows=50000)\n",
    "test_df = pd.read_csv('test_1Dx.csv',nrows=50000)"
   ]
  },
  {
   "cell_type": "code",
   "execution_count": 3,
   "metadata": {},
   "outputs": [],
   "source": [
    "X_train = train_df.drop(columns=['x-midplane','cotAlpha']).values\n",
    "X_test = test_df.drop(columns=['x-midplane','cotAlpha']).values\n",
    "\n",
    "y_train = train_df['x-midplane'].values\n",
    "y_test = test_df['x-midplane'].values"
   ]
  },
  {
   "cell_type": "code",
   "execution_count": 4,
   "metadata": {},
   "outputs": [],
   "source": [
    "# scale so that it is between 0 and 1\n",
    "def scale(X):\n",
    "    width = np.max(X) - np.min(X)\n",
    "    return ( X-np.min(X) ) / width"
   ]
  },
  {
   "cell_type": "code",
   "execution_count": 5,
   "metadata": {},
   "outputs": [],
   "source": [
    "X_train = scale(X_train.reshape(-1, X_train.shape[-1])).reshape(X_train.shape)\n",
    "X_test = scale(X_test.reshape(-1, X_test.shape[-1])).reshape(X_test.shape)"
   ]
  },
  {
   "cell_type": "code",
   "execution_count": 6,
   "metadata": {},
   "outputs": [],
   "source": [
    "def softplus_sigma(param):\n",
    "    return 0.01+tf.math.softplus(param)\n",
    "\n",
    "def custom_loss_gaussian(y, p):\n",
    "    \n",
    "    maxval = 1e9\n",
    "    minval = 1e-9\n",
    "    pi = 3.14159265359\n",
    "    \n",
    "    mu = tf.gather(params=p, indices=[0], axis=1)\n",
    "    sigma = softplus_sigma(tf.gather(params=p, indices=[1], axis=1))\n",
    "        \n",
    "    likelihood = 1.0/tf.math.sqrt(2*pi)/sigma*tf.math.exp(-1*(y-mu)*(y-mu)/(2*sigma*sigma))\n",
    "    likelihood = tf.clip_by_value(likelihood,minval,maxval)\n",
    "    \n",
    "    NLL = -1*tf.math.log(likelihood)\n",
    "    \n",
    "    return tf.keras.backend.sum(NLL,axis=1)\n",
    "\n",
    "def custom_loss_double_gaussian(y, p):\n",
    "    \n",
    "    maxval = 1e9\n",
    "    minval = 1e-9\n",
    "    pi = 3.14159265359\n",
    "    \n",
    "    mu = tf.gather(params=p, indices=[0], axis=1)\n",
    "    sigma1 = softplus_sigma(tf.gather(params=p, indices=[1], axis=1))\n",
    "    sigma2 = softplus_sigma(tf.gather(params=p, indices=[2], axis=1))\n",
    "    A = 0.99 + softplus_sigma(tf.gather(params=p, indices=[3], axis=1))\n",
    "    \n",
    "    norm1 = tf.math.sqrt(2*pi)*sigma1\n",
    "    norm2 = tf.math.sqrt(2*pi)*sigma2\n",
    "    \n",
    "    normtot = norm1 + A*norm2\n",
    "        \n",
    "    term1 = tf.math.exp(-0.5*(y-mu)*(y-mu)/(sigma1*sigma1))\n",
    "    term2 = tf.math.exp(-0.5*(y-mu)*(y-mu)/(sigma2*sigma2))\n",
    "    \n",
    "    likelihood = (term1 + A*term2)/normtot\n",
    "    likelihood = tf.math.multiply_no_nan(likelihood,tf.cast(mu>0,tf.float32)*tf.cast(A>0,tf.float32)*tf.cast(sigma1>0,tf.float32)*tf.cast(sigma2>0,tf.float32))\n",
    "    likelihood = tf.clip_by_value(likelihood,minval,1)\n",
    "    \n",
    "    NLL = -1*tf.math.log(likelihood)\n",
    "    \n",
    "    return tf.keras.backend.sum(NLL,axis=1)"
   ]
  },
  {
   "cell_type": "code",
   "execution_count": 7,
   "metadata": {},
   "outputs": [
    {
     "name": "stdout",
     "output_type": "stream",
     "text": [
      "Model: \"model\"\n",
      "_________________________________________________________________\n",
      " Layer (type)                Output Shape              Param #   \n",
      "=================================================================\n",
      " input_1 (InputLayer)        [(None, 21)]              0         \n",
      "                                                                 \n",
      " dense1 (Dense)              (None, 64)                1408      \n",
      "                                                                 \n",
      " relu1 (Activation)          (None, 64)                0         \n",
      "                                                                 \n",
      " dense2 (Dense)              (None, 2)                 130       \n",
      "                                                                 \n",
      "=================================================================\n",
      "Total params: 1,538\n",
      "Trainable params: 1,538\n",
      "Non-trainable params: 0\n",
      "_________________________________________________________________\n"
     ]
    },
    {
     "name": "stderr",
     "output_type": "stream",
     "text": [
      "2022-12-09 18:09:14.286996: W tensorflow/stream_executor/platform/default/dso_loader.cc:64] Could not load dynamic library 'libcuda.so.1'; dlerror: libcuda.so.1: cannot open shared object file: No such file or directory\n",
      "2022-12-09 18:09:14.292657: W tensorflow/stream_executor/cuda/cuda_driver.cc:263] failed call to cuInit: UNKNOWN ERROR (303)\n",
      "2022-12-09 18:09:14.292707: I tensorflow/stream_executor/cuda/cuda_diagnostics.cc:156] kernel driver does not appear to be running on this host (jupyter-jennetd): /proc/driver/nvidia/version does not exist\n",
      "2022-12-09 18:09:14.293435: I tensorflow/core/platform/cpu_feature_guard.cc:193] This TensorFlow binary is optimized with oneAPI Deep Neural Network Library (oneDNN) to use the following CPU instructions in performance-critical operations:  AVX2 AVX512F AVX512_VNNI FMA\n",
      "To enable them in other operations, rebuild TensorFlow with the appropriate compiler flags.\n"
     ]
    }
   ],
   "source": [
    "def CreateModel(shape):\n",
    "    x = x_in = Input(shape)\n",
    "    x = Dense(64, name=\"dense1\")(x)\n",
    "    x = Activation(\"relu\", name=\"relu1\")(x)\n",
    "    x = Dense(2, name=\"dense2\")(x)\n",
    "    model = Model(inputs=x_in, outputs=x)\n",
    "    return model\n",
    "\n",
    "model=CreateModel(X_train.shape[1:])\n",
    "\n",
    "model.compile(optimizer=Adam(learning_rate=0.0025),\n",
    "              loss=custom_loss_gaussian)\n",
    "\n",
    "model.summary()"
   ]
  },
  {
   "cell_type": "code",
   "execution_count": 8,
   "metadata": {},
   "outputs": [
    {
     "name": "stdout",
     "output_type": "stream",
     "text": [
      "Epoch 1/500\n",
      "625/625 [==============================] - 3s 3ms/step - loss: 8.2296 - val_loss: 5.2380\n",
      "Epoch 2/500\n",
      "625/625 [==============================] - 1s 2ms/step - loss: 5.1930 - val_loss: 5.1637\n",
      "Epoch 3/500\n",
      "625/625 [==============================] - 1s 2ms/step - loss: 5.0431 - val_loss: 4.8958\n",
      "Epoch 4/500\n",
      "625/625 [==============================] - 1s 2ms/step - loss: 4.6726 - val_loss: 4.5244\n",
      "Epoch 5/500\n",
      "625/625 [==============================] - 1s 2ms/step - loss: 4.3942 - val_loss: 4.3488\n",
      "Epoch 6/500\n",
      "625/625 [==============================] - 1s 2ms/step - loss: 4.2496 - val_loss: 4.2147\n",
      "Epoch 7/500\n",
      "625/625 [==============================] - 1s 2ms/step - loss: 4.1184 - val_loss: 4.0942\n",
      "Epoch 8/500\n",
      "625/625 [==============================] - 1s 2ms/step - loss: 4.0083 - val_loss: 3.9975\n",
      "Epoch 9/500\n",
      "625/625 [==============================] - 1s 2ms/step - loss: 3.9262 - val_loss: 3.9280\n",
      "Epoch 10/500\n",
      "625/625 [==============================] - 1s 2ms/step - loss: 3.8675 - val_loss: 3.8710\n",
      "Epoch 11/500\n",
      "625/625 [==============================] - 1s 2ms/step - loss: 3.8219 - val_loss: 3.8334\n",
      "Epoch 12/500\n",
      "625/625 [==============================] - 1s 2ms/step - loss: 3.7849 - val_loss: 3.7959\n",
      "Epoch 13/500\n",
      "625/625 [==============================] - 1s 2ms/step - loss: 3.7533 - val_loss: 3.7678\n",
      "Epoch 14/500\n",
      "625/625 [==============================] - 1s 2ms/step - loss: 3.7250 - val_loss: 3.7426\n",
      "Epoch 15/500\n",
      "625/625 [==============================] - 1s 2ms/step - loss: 3.7005 - val_loss: 3.7260\n",
      "Epoch 16/500\n",
      "625/625 [==============================] - 1s 2ms/step - loss: 3.6791 - val_loss: 3.6941\n",
      "Epoch 17/500\n",
      "625/625 [==============================] - 1s 2ms/step - loss: 3.6606 - val_loss: 3.6795\n",
      "Epoch 18/500\n",
      "625/625 [==============================] - 1s 2ms/step - loss: 3.6430 - val_loss: 3.6569\n",
      "Epoch 19/500\n",
      "625/625 [==============================] - 1s 2ms/step - loss: 3.6253 - val_loss: 3.6420\n",
      "Epoch 20/500\n",
      "625/625 [==============================] - 1s 2ms/step - loss: 3.6097 - val_loss: 3.6265\n",
      "Epoch 21/500\n",
      "625/625 [==============================] - 1s 2ms/step - loss: 3.5954 - val_loss: 3.6104\n",
      "Epoch 22/500\n",
      "625/625 [==============================] - 1s 2ms/step - loss: 3.5816 - val_loss: 3.6023\n",
      "Epoch 23/500\n",
      "625/625 [==============================] - 1s 2ms/step - loss: 3.5692 - val_loss: 3.5923\n",
      "Epoch 24/500\n",
      "625/625 [==============================] - 1s 2ms/step - loss: 3.5586 - val_loss: 3.5745\n",
      "Epoch 25/500\n",
      "625/625 [==============================] - 1s 2ms/step - loss: 3.5475 - val_loss: 3.5667\n",
      "Epoch 26/500\n",
      "625/625 [==============================] - 1s 2ms/step - loss: 3.5368 - val_loss: 3.5563\n",
      "Epoch 27/500\n",
      "625/625 [==============================] - 1s 2ms/step - loss: 3.5255 - val_loss: 3.5540\n",
      "Epoch 28/500\n",
      "625/625 [==============================] - 1s 2ms/step - loss: 3.5154 - val_loss: 3.5345\n",
      "Epoch 29/500\n",
      "625/625 [==============================] - 1s 2ms/step - loss: 3.5041 - val_loss: 3.5275\n",
      "Epoch 30/500\n",
      "625/625 [==============================] - 1s 2ms/step - loss: 3.4937 - val_loss: 3.5196\n",
      "Epoch 31/500\n",
      "625/625 [==============================] - 2s 3ms/step - loss: 3.4827 - val_loss: 3.5118\n",
      "Epoch 32/500\n",
      "625/625 [==============================] - 1s 2ms/step - loss: 3.4730 - val_loss: 3.4957\n",
      "Epoch 33/500\n",
      "625/625 [==============================] - 1s 2ms/step - loss: 3.4643 - val_loss: 3.4871\n",
      "Epoch 34/500\n",
      "625/625 [==============================] - 1s 2ms/step - loss: 3.4552 - val_loss: 3.4802\n",
      "Epoch 35/500\n",
      "625/625 [==============================] - 1s 2ms/step - loss: 3.4461 - val_loss: 3.4717\n",
      "Epoch 36/500\n",
      "625/625 [==============================] - 1s 2ms/step - loss: 3.4391 - val_loss: 3.4649\n",
      "Epoch 37/500\n",
      "625/625 [==============================] - 1s 2ms/step - loss: 3.4312 - val_loss: 3.4593\n",
      "Epoch 38/500\n",
      "625/625 [==============================] - 1s 2ms/step - loss: 3.4237 - val_loss: 3.4549\n",
      "Epoch 39/500\n",
      "625/625 [==============================] - 1s 2ms/step - loss: 3.4174 - val_loss: 3.4425\n",
      "Epoch 40/500\n",
      "625/625 [==============================] - 1s 2ms/step - loss: 3.4105 - val_loss: 3.4372\n",
      "Epoch 41/500\n",
      "625/625 [==============================] - 1s 2ms/step - loss: 3.4051 - val_loss: 3.4304\n",
      "Epoch 42/500\n",
      "625/625 [==============================] - 1s 2ms/step - loss: 3.3997 - val_loss: 3.4223\n",
      "Epoch 43/500\n",
      "625/625 [==============================] - 1s 2ms/step - loss: 3.3947 - val_loss: 3.4191\n",
      "Epoch 44/500\n",
      "625/625 [==============================] - 1s 2ms/step - loss: 3.3890 - val_loss: 3.4214\n",
      "Epoch 45/500\n",
      "625/625 [==============================] - 1s 2ms/step - loss: 3.3849 - val_loss: 3.4122\n",
      "Epoch 46/500\n",
      "625/625 [==============================] - 1s 2ms/step - loss: 3.3810 - val_loss: 3.4084\n",
      "Epoch 47/500\n",
      "625/625 [==============================] - 1s 2ms/step - loss: 3.3764 - val_loss: 3.4029\n",
      "Epoch 48/500\n",
      "625/625 [==============================] - 1s 2ms/step - loss: 3.3728 - val_loss: 3.3989\n",
      "Epoch 49/500\n",
      "625/625 [==============================] - 2s 2ms/step - loss: 3.3692 - val_loss: 3.3988\n",
      "Epoch 50/500\n",
      "625/625 [==============================] - 1s 2ms/step - loss: 3.3652 - val_loss: 3.3907\n",
      "Epoch 51/500\n",
      "625/625 [==============================] - 2s 2ms/step - loss: 3.3623 - val_loss: 3.3863\n",
      "Epoch 52/500\n",
      "625/625 [==============================] - 1s 2ms/step - loss: 3.3596 - val_loss: 3.3882\n",
      "Epoch 53/500\n",
      "625/625 [==============================] - 1s 2ms/step - loss: 3.3568 - val_loss: 3.3839\n",
      "Epoch 54/500\n",
      "625/625 [==============================] - 1s 2ms/step - loss: 3.3532 - val_loss: 3.3821\n",
      "Epoch 55/500\n",
      "625/625 [==============================] - 1s 2ms/step - loss: 3.3497 - val_loss: 3.3785\n",
      "Epoch 56/500\n",
      "625/625 [==============================] - 1s 2ms/step - loss: 3.3475 - val_loss: 3.3891\n",
      "Epoch 57/500\n",
      "625/625 [==============================] - 1s 2ms/step - loss: 3.3452 - val_loss: 3.3891\n",
      "Epoch 58/500\n",
      "625/625 [==============================] - 1s 2ms/step - loss: 3.3431 - val_loss: 3.3714\n",
      "Epoch 59/500\n",
      "625/625 [==============================] - 1s 2ms/step - loss: 3.3399 - val_loss: 3.3739\n",
      "Epoch 60/500\n",
      "625/625 [==============================] - 1s 2ms/step - loss: 3.3389 - val_loss: 3.3652\n",
      "Epoch 61/500\n",
      "625/625 [==============================] - 2s 2ms/step - loss: 3.3360 - val_loss: 3.3646\n",
      "Epoch 62/500\n",
      "625/625 [==============================] - 2s 2ms/step - loss: 3.3335 - val_loss: 3.3660\n",
      "Epoch 63/500\n",
      "625/625 [==============================] - 1s 2ms/step - loss: 3.3318 - val_loss: 3.3611\n",
      "Epoch 64/500\n",
      "625/625 [==============================] - 1s 2ms/step - loss: 3.3287 - val_loss: 3.3585\n",
      "Epoch 65/500\n",
      "625/625 [==============================] - 1s 2ms/step - loss: 3.3266 - val_loss: 3.3601\n",
      "Epoch 66/500\n",
      "625/625 [==============================] - 1s 2ms/step - loss: 3.3261 - val_loss: 3.3737\n",
      "Epoch 67/500\n",
      "625/625 [==============================] - 1s 2ms/step - loss: 3.3242 - val_loss: 3.3580\n",
      "Epoch 68/500\n",
      "625/625 [==============================] - 1s 2ms/step - loss: 3.3227 - val_loss: 3.3516\n",
      "Epoch 69/500\n",
      "625/625 [==============================] - 1s 2ms/step - loss: 3.3204 - val_loss: 3.3528\n",
      "Epoch 70/500\n",
      "625/625 [==============================] - 1s 2ms/step - loss: 3.3192 - val_loss: 3.3495\n",
      "Epoch 71/500\n",
      "625/625 [==============================] - 1s 2ms/step - loss: 3.3175 - val_loss: 3.3548\n",
      "Epoch 72/500\n",
      "625/625 [==============================] - 1s 2ms/step - loss: 3.3159 - val_loss: 3.3460\n",
      "Epoch 73/500\n",
      "625/625 [==============================] - 1s 2ms/step - loss: 3.3125 - val_loss: 3.3434\n",
      "Epoch 74/500\n",
      "625/625 [==============================] - 1s 2ms/step - loss: 3.3119 - val_loss: 3.3451\n",
      "Epoch 75/500\n",
      "625/625 [==============================] - 1s 2ms/step - loss: 3.3100 - val_loss: 3.3393\n",
      "Epoch 76/500\n",
      "625/625 [==============================] - 1s 2ms/step - loss: 3.3096 - val_loss: 3.3467\n",
      "Epoch 77/500\n",
      "625/625 [==============================] - 1s 2ms/step - loss: 3.3081 - val_loss: 3.3374\n",
      "Epoch 78/500\n",
      "625/625 [==============================] - 1s 2ms/step - loss: 3.3060 - val_loss: 3.3412\n",
      "Epoch 79/500\n",
      "625/625 [==============================] - 1s 2ms/step - loss: 3.3045 - val_loss: 3.3350\n",
      "Epoch 80/500\n",
      "625/625 [==============================] - 1s 2ms/step - loss: 3.3041 - val_loss: 3.3378\n",
      "Epoch 81/500\n",
      "625/625 [==============================] - 1s 2ms/step - loss: 3.3020 - val_loss: 3.3367\n",
      "Epoch 82/500\n",
      "625/625 [==============================] - 1s 2ms/step - loss: 3.3002 - val_loss: 3.3370\n",
      "Epoch 83/500\n",
      "625/625 [==============================] - 1s 2ms/step - loss: 3.2989 - val_loss: 3.3321\n",
      "Epoch 84/500\n",
      "625/625 [==============================] - 1s 2ms/step - loss: 3.2977 - val_loss: 3.3300\n",
      "Epoch 85/500\n",
      "625/625 [==============================] - 1s 2ms/step - loss: 3.2971 - val_loss: 3.3286\n",
      "Epoch 86/500\n",
      "625/625 [==============================] - 1s 2ms/step - loss: 3.2961 - val_loss: 3.3327\n",
      "Epoch 87/500\n",
      "625/625 [==============================] - 2s 3ms/step - loss: 3.2945 - val_loss: 3.3259\n",
      "Epoch 88/500\n",
      "625/625 [==============================] - 2s 3ms/step - loss: 3.2918 - val_loss: 3.3284\n",
      "Epoch 89/500\n",
      "625/625 [==============================] - 2s 3ms/step - loss: 3.2918 - val_loss: 3.3314\n",
      "Epoch 90/500\n",
      "625/625 [==============================] - 2s 2ms/step - loss: 3.2904 - val_loss: 3.3324\n",
      "Epoch 91/500\n",
      "625/625 [==============================] - 2s 3ms/step - loss: 3.2902 - val_loss: 3.3421\n",
      "Epoch 92/500\n",
      "625/625 [==============================] - 2s 2ms/step - loss: 3.2883 - val_loss: 3.3315\n",
      "Epoch 93/500\n",
      "625/625 [==============================] - 1s 2ms/step - loss: 3.2879 - val_loss: 3.3209\n",
      "Epoch 94/500\n",
      "625/625 [==============================] - 1s 2ms/step - loss: 3.2859 - val_loss: 3.3215\n",
      "Epoch 95/500\n",
      "625/625 [==============================] - 1s 2ms/step - loss: 3.2869 - val_loss: 3.3221\n",
      "Epoch 96/500\n",
      "625/625 [==============================] - 1s 2ms/step - loss: 3.2846 - val_loss: 3.3243\n",
      "Epoch 97/500\n",
      "625/625 [==============================] - 1s 2ms/step - loss: 3.2843 - val_loss: 3.3186\n",
      "Epoch 98/500\n",
      "625/625 [==============================] - 1s 2ms/step - loss: 3.2829 - val_loss: 3.3196\n",
      "Epoch 99/500\n",
      "625/625 [==============================] - 1s 2ms/step - loss: 3.2816 - val_loss: 3.3172\n",
      "Epoch 100/500\n",
      "625/625 [==============================] - 1s 2ms/step - loss: 3.2802 - val_loss: 3.3127\n",
      "Epoch 101/500\n",
      "625/625 [==============================] - 1s 2ms/step - loss: 3.2796 - val_loss: 3.3136\n",
      "Epoch 102/500\n",
      "625/625 [==============================] - 1s 2ms/step - loss: 3.2789 - val_loss: 3.3149\n",
      "Epoch 103/500\n",
      "625/625 [==============================] - 1s 2ms/step - loss: 3.2780 - val_loss: 3.3161\n",
      "Epoch 104/500\n",
      "625/625 [==============================] - 1s 2ms/step - loss: 3.2763 - val_loss: 3.3103\n",
      "Epoch 105/500\n",
      "625/625 [==============================] - 1s 2ms/step - loss: 3.2764 - val_loss: 3.3099\n",
      "Epoch 106/500\n",
      "625/625 [==============================] - 1s 2ms/step - loss: 3.2752 - val_loss: 3.3140\n",
      "Epoch 107/500\n",
      "625/625 [==============================] - 2s 2ms/step - loss: 3.2740 - val_loss: 3.3129\n",
      "Epoch 108/500\n",
      "625/625 [==============================] - 1s 2ms/step - loss: 3.2734 - val_loss: 3.3094\n",
      "Epoch 109/500\n",
      "625/625 [==============================] - 2s 2ms/step - loss: 3.2731 - val_loss: 3.3087\n",
      "Epoch 110/500\n",
      "625/625 [==============================] - 2s 3ms/step - loss: 3.2717 - val_loss: 3.3110\n",
      "Epoch 111/500\n",
      "625/625 [==============================] - 2s 3ms/step - loss: 3.2730 - val_loss: 3.3166\n",
      "Epoch 112/500\n",
      "625/625 [==============================] - 2s 2ms/step - loss: 3.2712 - val_loss: 3.3076\n",
      "Epoch 113/500\n",
      "625/625 [==============================] - 2s 3ms/step - loss: 3.2700 - val_loss: 3.3096\n",
      "Epoch 114/500\n",
      "625/625 [==============================] - 2s 3ms/step - loss: 3.2683 - val_loss: 3.3088\n",
      "Epoch 115/500\n",
      "625/625 [==============================] - 2s 3ms/step - loss: 3.2685 - val_loss: 3.3166\n",
      "Epoch 116/500\n",
      "625/625 [==============================] - 1s 2ms/step - loss: 3.2675 - val_loss: 3.3147\n",
      "Epoch 117/500\n",
      "625/625 [==============================] - 1s 2ms/step - loss: 3.2672 - val_loss: 3.3056\n",
      "Epoch 118/500\n",
      "625/625 [==============================] - 1s 2ms/step - loss: 3.2656 - val_loss: 3.3029\n",
      "Epoch 119/500\n",
      "625/625 [==============================] - 1s 2ms/step - loss: 3.2660 - val_loss: 3.3056\n",
      "Epoch 120/500\n",
      "625/625 [==============================] - 1s 2ms/step - loss: 3.2658 - val_loss: 3.3063\n",
      "Epoch 121/500\n",
      "625/625 [==============================] - 1s 2ms/step - loss: 3.2643 - val_loss: 3.3057\n",
      "Epoch 122/500\n",
      "625/625 [==============================] - 1s 2ms/step - loss: 3.2645 - val_loss: 3.3094\n",
      "Epoch 123/500\n",
      "625/625 [==============================] - 1s 2ms/step - loss: 3.2624 - val_loss: 3.3078\n",
      "Epoch 124/500\n",
      "625/625 [==============================] - 1s 2ms/step - loss: 3.2629 - val_loss: 3.3006\n",
      "Epoch 125/500\n",
      "625/625 [==============================] - 1s 2ms/step - loss: 3.2627 - val_loss: 3.2978\n",
      "Epoch 126/500\n",
      "625/625 [==============================] - 1s 2ms/step - loss: 3.2618 - val_loss: 3.2997\n",
      "Epoch 127/500\n",
      "625/625 [==============================] - 1s 2ms/step - loss: 3.2614 - val_loss: 3.3075\n",
      "Epoch 128/500\n",
      "625/625 [==============================] - 1s 2ms/step - loss: 3.2607 - val_loss: 3.3008\n",
      "Epoch 129/500\n",
      "625/625 [==============================] - 1s 2ms/step - loss: 3.2593 - val_loss: 3.2982\n",
      "Epoch 130/500\n",
      "625/625 [==============================] - 1s 2ms/step - loss: 3.2590 - val_loss: 3.3056\n",
      "Epoch 131/500\n",
      "625/625 [==============================] - 2s 2ms/step - loss: 3.2593 - val_loss: 3.2942\n",
      "Epoch 132/500\n",
      "625/625 [==============================] - 1s 2ms/step - loss: 3.2567 - val_loss: 3.2959\n",
      "Epoch 133/500\n",
      "625/625 [==============================] - 1s 2ms/step - loss: 3.2582 - val_loss: 3.3026\n",
      "Epoch 134/500\n",
      "625/625 [==============================] - 1s 2ms/step - loss: 3.2567 - val_loss: 3.3074\n",
      "Epoch 135/500\n",
      "625/625 [==============================] - 1s 2ms/step - loss: 3.2571 - val_loss: 3.3027\n",
      "Epoch 136/500\n",
      "625/625 [==============================] - 1s 2ms/step - loss: 3.2565 - val_loss: 3.2986\n",
      "Epoch 137/500\n",
      "625/625 [==============================] - 2s 2ms/step - loss: 3.2552 - val_loss: 3.2959\n",
      "Epoch 138/500\n",
      "625/625 [==============================] - 1s 2ms/step - loss: 3.2547 - val_loss: 3.3036\n",
      "Epoch 139/500\n",
      "625/625 [==============================] - 1s 2ms/step - loss: 3.2535 - val_loss: 3.2913\n",
      "Epoch 140/500\n",
      "625/625 [==============================] - 1s 2ms/step - loss: 3.2536 - val_loss: 3.2930\n",
      "Epoch 141/500\n",
      "625/625 [==============================] - 1s 2ms/step - loss: 3.2519 - val_loss: 3.2975\n",
      "Epoch 142/500\n",
      "625/625 [==============================] - 1s 2ms/step - loss: 3.2513 - val_loss: 3.2916\n",
      "Epoch 143/500\n",
      "625/625 [==============================] - 1s 2ms/step - loss: 3.2513 - val_loss: 3.2893\n",
      "Epoch 144/500\n",
      "625/625 [==============================] - 1s 2ms/step - loss: 3.2513 - val_loss: 3.2965\n",
      "Epoch 145/500\n",
      "625/625 [==============================] - 2s 2ms/step - loss: 3.2503 - val_loss: 3.2916\n",
      "Epoch 146/500\n",
      "625/625 [==============================] - 1s 2ms/step - loss: 3.2504 - val_loss: 3.2958\n",
      "Epoch 147/500\n",
      "625/625 [==============================] - 1s 2ms/step - loss: 3.2505 - val_loss: 3.2990\n",
      "Epoch 148/500\n",
      "625/625 [==============================] - 1s 2ms/step - loss: 3.2494 - val_loss: 3.3057\n",
      "Epoch 149/500\n",
      "625/625 [==============================] - 1s 2ms/step - loss: 3.2502 - val_loss: 3.2905\n",
      "Epoch 150/500\n",
      "625/625 [==============================] - 2s 3ms/step - loss: 3.2484 - val_loss: 3.2907\n",
      "Epoch 151/500\n",
      "625/625 [==============================] - 2s 2ms/step - loss: 3.2479 - val_loss: 3.2926\n",
      "Epoch 152/500\n",
      "625/625 [==============================] - 1s 2ms/step - loss: 3.2481 - val_loss: 3.2905\n",
      "Epoch 153/500\n",
      "625/625 [==============================] - 1s 2ms/step - loss: 3.2477 - val_loss: 3.2871\n",
      "Epoch 154/500\n",
      "625/625 [==============================] - 2s 3ms/step - loss: 3.2471 - val_loss: 3.2934\n",
      "Epoch 155/500\n",
      "625/625 [==============================] - 1s 2ms/step - loss: 3.2470 - val_loss: 3.2848\n",
      "Epoch 156/500\n",
      "625/625 [==============================] - 2s 2ms/step - loss: 3.2453 - val_loss: 3.2890\n",
      "Epoch 157/500\n",
      "625/625 [==============================] - 1s 2ms/step - loss: 3.2466 - val_loss: 3.2874\n",
      "Epoch 158/500\n",
      "625/625 [==============================] - 1s 2ms/step - loss: 3.2450 - val_loss: 3.2846\n",
      "Epoch 159/500\n",
      "625/625 [==============================] - 2s 3ms/step - loss: 3.2439 - val_loss: 3.2962\n",
      "Epoch 160/500\n",
      "625/625 [==============================] - 1s 2ms/step - loss: 3.2442 - val_loss: 3.2908\n",
      "Epoch 161/500\n",
      "625/625 [==============================] - 1s 2ms/step - loss: 3.2447 - val_loss: 3.2851\n",
      "Epoch 162/500\n",
      "625/625 [==============================] - 1s 2ms/step - loss: 3.2446 - val_loss: 3.2872\n",
      "Epoch 163/500\n",
      "625/625 [==============================] - 2s 3ms/step - loss: 3.2431 - val_loss: 3.2877\n",
      "Epoch 164/500\n",
      "625/625 [==============================] - 2s 2ms/step - loss: 3.2432 - val_loss: 3.2869\n",
      "Epoch 165/500\n",
      "625/625 [==============================] - 1s 2ms/step - loss: 3.2434 - val_loss: 3.2927\n",
      "Epoch 166/500\n",
      "625/625 [==============================] - 2s 3ms/step - loss: 3.2418 - val_loss: 3.2854\n",
      "Epoch 167/500\n",
      "625/625 [==============================] - 2s 3ms/step - loss: 3.2428 - val_loss: 3.2803\n",
      "Epoch 168/500\n",
      "625/625 [==============================] - 1s 2ms/step - loss: 3.2416 - val_loss: 3.2898\n",
      "Epoch 169/500\n",
      "625/625 [==============================] - 2s 3ms/step - loss: 3.2405 - val_loss: 3.2879\n",
      "Epoch 170/500\n",
      "625/625 [==============================] - 2s 3ms/step - loss: 3.2408 - val_loss: 3.2841\n",
      "Epoch 171/500\n",
      "625/625 [==============================] - 2s 3ms/step - loss: 3.2410 - val_loss: 3.2801\n",
      "Epoch 172/500\n",
      "625/625 [==============================] - 1s 2ms/step - loss: 3.2403 - val_loss: 3.2782\n",
      "Epoch 173/500\n",
      "625/625 [==============================] - 1s 2ms/step - loss: 3.2392 - val_loss: 3.2782\n",
      "Epoch 174/500\n",
      "625/625 [==============================] - 2s 2ms/step - loss: 3.2402 - val_loss: 3.2827\n",
      "Epoch 175/500\n",
      "625/625 [==============================] - 1s 2ms/step - loss: 3.2396 - val_loss: 3.2782\n",
      "Epoch 176/500\n",
      "625/625 [==============================] - 2s 3ms/step - loss: 3.2385 - val_loss: 3.2813\n",
      "Epoch 177/500\n",
      "625/625 [==============================] - 1s 2ms/step - loss: 3.2384 - val_loss: 3.2775\n",
      "Epoch 178/500\n",
      "625/625 [==============================] - 2s 2ms/step - loss: 3.2398 - val_loss: 3.2842\n",
      "Epoch 179/500\n",
      "625/625 [==============================] - 2s 3ms/step - loss: 3.2384 - val_loss: 3.2785\n",
      "Epoch 180/500\n",
      "625/625 [==============================] - 2s 2ms/step - loss: 3.2382 - val_loss: 3.2986\n",
      "Epoch 181/500\n",
      "625/625 [==============================] - 2s 2ms/step - loss: 3.2379 - val_loss: 3.2819\n",
      "Epoch 182/500\n",
      "625/625 [==============================] - 1s 2ms/step - loss: 3.2362 - val_loss: 3.2816\n",
      "Epoch 183/500\n",
      "625/625 [==============================] - 2s 2ms/step - loss: 3.2361 - val_loss: 3.2791\n",
      "Epoch 184/500\n",
      "625/625 [==============================] - 2s 3ms/step - loss: 3.2377 - val_loss: 3.2761\n",
      "Epoch 185/500\n",
      "625/625 [==============================] - 2s 3ms/step - loss: 3.2363 - val_loss: 3.2984\n",
      "Epoch 186/500\n",
      "625/625 [==============================] - 2s 2ms/step - loss: 3.2358 - val_loss: 3.2775\n",
      "Epoch 187/500\n",
      "625/625 [==============================] - 1s 2ms/step - loss: 3.2360 - val_loss: 3.2824\n",
      "Epoch 188/500\n",
      "625/625 [==============================] - 2s 3ms/step - loss: 3.2354 - val_loss: 3.2818\n",
      "Epoch 189/500\n",
      "625/625 [==============================] - 2s 2ms/step - loss: 3.2352 - val_loss: 3.2783\n",
      "Epoch 190/500\n",
      "625/625 [==============================] - 1s 2ms/step - loss: 3.2340 - val_loss: 3.2783\n",
      "Epoch 191/500\n",
      "625/625 [==============================] - 1s 2ms/step - loss: 3.2350 - val_loss: 3.2786\n",
      "Epoch 192/500\n",
      "625/625 [==============================] - 2s 2ms/step - loss: 3.2361 - val_loss: 3.2743\n",
      "Epoch 193/500\n",
      "625/625 [==============================] - 2s 2ms/step - loss: 3.2347 - val_loss: 3.2798\n",
      "Epoch 194/500\n",
      "625/625 [==============================] - 1s 2ms/step - loss: 3.2330 - val_loss: 3.2755\n",
      "Epoch 195/500\n",
      "625/625 [==============================] - 1s 2ms/step - loss: 3.2336 - val_loss: 3.2824\n",
      "Epoch 196/500\n",
      "625/625 [==============================] - 1s 2ms/step - loss: 3.2329 - val_loss: 3.2812\n",
      "Epoch 197/500\n",
      "625/625 [==============================] - 1s 2ms/step - loss: 3.2325 - val_loss: 3.2770\n",
      "Epoch 198/500\n",
      "625/625 [==============================] - 2s 3ms/step - loss: 3.2334 - val_loss: 3.2749\n",
      "Epoch 199/500\n",
      "625/625 [==============================] - 2s 2ms/step - loss: 3.2320 - val_loss: 3.2709\n",
      "Epoch 200/500\n",
      "625/625 [==============================] - 2s 3ms/step - loss: 3.2318 - val_loss: 3.2749\n",
      "Epoch 201/500\n",
      "625/625 [==============================] - 2s 3ms/step - loss: 3.2308 - val_loss: 3.2758\n",
      "Epoch 202/500\n",
      "625/625 [==============================] - 1s 2ms/step - loss: 3.2313 - val_loss: 3.2730\n",
      "Epoch 203/500\n",
      "625/625 [==============================] - 1s 2ms/step - loss: 3.2315 - val_loss: 3.2786\n",
      "Epoch 204/500\n",
      "625/625 [==============================] - 1s 2ms/step - loss: 3.2321 - val_loss: 3.2760\n",
      "Epoch 205/500\n",
      "625/625 [==============================] - 2s 2ms/step - loss: 3.2312 - val_loss: 3.2765\n",
      "Epoch 206/500\n",
      "625/625 [==============================] - 1s 2ms/step - loss: 3.2310 - val_loss: 3.2707\n",
      "Epoch 207/500\n",
      "625/625 [==============================] - 1s 2ms/step - loss: 3.2290 - val_loss: 3.2714\n",
      "Epoch 208/500\n",
      "625/625 [==============================] - 1s 2ms/step - loss: 3.2302 - val_loss: 3.2726\n",
      "Epoch 209/500\n",
      "625/625 [==============================] - 2s 2ms/step - loss: 3.2306 - val_loss: 3.2707\n",
      "Epoch 210/500\n",
      "625/625 [==============================] - 2s 3ms/step - loss: 3.2293 - val_loss: 3.2719\n",
      "Epoch 211/500\n",
      "625/625 [==============================] - 2s 3ms/step - loss: 3.2290 - val_loss: 3.2752\n",
      "Epoch 212/500\n",
      "625/625 [==============================] - 2s 3ms/step - loss: 3.2282 - val_loss: 3.2773\n",
      "Epoch 213/500\n",
      "625/625 [==============================] - 2s 3ms/step - loss: 3.2288 - val_loss: 3.2805\n",
      "Epoch 214/500\n",
      "625/625 [==============================] - 2s 2ms/step - loss: 3.2274 - val_loss: 3.2745\n",
      "Epoch 215/500\n",
      "625/625 [==============================] - 1s 2ms/step - loss: 3.2288 - val_loss: 3.2716\n",
      "Epoch 216/500\n",
      "625/625 [==============================] - 1s 2ms/step - loss: 3.2288 - val_loss: 3.2657\n",
      "Epoch 217/500\n",
      "625/625 [==============================] - 1s 2ms/step - loss: 3.2281 - val_loss: 3.2711\n",
      "Epoch 218/500\n",
      "625/625 [==============================] - 1s 2ms/step - loss: 3.2267 - val_loss: 3.2709\n",
      "Epoch 219/500\n",
      "625/625 [==============================] - 2s 3ms/step - loss: 3.2275 - val_loss: 3.2750\n",
      "Epoch 220/500\n",
      "625/625 [==============================] - 2s 3ms/step - loss: 3.2270 - val_loss: 3.2694\n",
      "Epoch 221/500\n",
      "625/625 [==============================] - 1s 2ms/step - loss: 3.2261 - val_loss: 3.2687\n",
      "Epoch 222/500\n",
      "625/625 [==============================] - 2s 2ms/step - loss: 3.2259 - val_loss: 3.2726\n",
      "Epoch 223/500\n",
      "625/625 [==============================] - 1s 2ms/step - loss: 3.2247 - val_loss: 3.2684\n",
      "Epoch 224/500\n",
      "625/625 [==============================] - 2s 2ms/step - loss: 3.2265 - val_loss: 3.2669\n",
      "Epoch 225/500\n",
      "625/625 [==============================] - 1s 2ms/step - loss: 3.2249 - val_loss: 3.2786\n",
      "Epoch 226/500\n",
      "625/625 [==============================] - 2s 3ms/step - loss: 3.2245 - val_loss: 3.2670\n"
     ]
    }
   ],
   "source": [
    "es = EarlyStopping(patience=10,\n",
    "                  restore_best_weights=True)\n",
    "\n",
    "history = model.fit(X_train,\n",
    "                    y_train,\n",
    "                    callbacks=[es],\n",
    "                    epochs=500, \n",
    "                    batch_size=64,\n",
    "                    validation_split=0.2,\n",
    "                    shuffle=True,\n",
    "                    verbose=1)"
   ]
  },
  {
   "cell_type": "code",
   "execution_count": 9,
   "metadata": {},
   "outputs": [
    {
     "name": "stderr",
     "output_type": "stream",
     "text": [
      "/tmp/ipykernel_229633/3321773974.py:10: MatplotlibDeprecationWarning: Support for case-insensitive scales is deprecated since 3.5 and support will be removed two minor releases later.\n",
      "  plt.yscale('Log')\n"
     ]
    },
    {
     "data": {
      "image/png": "[encoded data removed]",
      "text/plain": [
       "<Figure size 640x480 with 1 Axes>"
      ]
     },
     "metadata": {},
     "output_type": "display_data"
    }
   ],
   "source": [
    "history_dict = history.history\n",
    "loss_values = history_dict['loss'] \n",
    "val_loss_values = history_dict['val_loss'] \n",
    "epochs = range(1, len(loss_values) + 1) \n",
    "plt.plot(epochs, loss_values, 'bo', label='Training loss')\n",
    "plt.plot(epochs, val_loss_values, 'orange', label='Validation loss')\n",
    "plt.title('Training and validation loss')\n",
    "plt.xlabel('Epochs')\n",
    "plt.ylabel('Loss')\n",
    "plt.yscale('Log')\n",
    "plt.legend()\n",
    "plt.show()"
   ]
  },
  {
   "cell_type": "code",
   "execution_count": 10,
   "metadata": {},
   "outputs": [],
   "source": [
    "model.save('models_1Dx_gauss.keras')"
   ]
  },
  {
   "cell_type": "code",
   "execution_count": 11,
   "metadata": {},
   "outputs": [
    {
     "name": "stdout",
     "output_type": "stream",
     "text": [
      "1563/1563 [==============================] - 2s 1ms/step\n"
     ]
    }
   ],
   "source": [
    "p_test = model.predict(X_test)\n",
    "df = pd.DataFrame(p_test,columns=['mu','sigma'])\n",
    "df['sigma'] = softplus_sigma(df['sigma'])\n",
    "df['xtrue'] = y_test\n",
    "df.to_csv(\"test_1DxGauss.csv\",header=False,index=False)"
   ]
  },
  {
   "cell_type": "code",
   "execution_count": 12,
   "metadata": {},
   "outputs": [],
   "source": [
    "# Pixel boundaries\n",
    "bounds = [-75,-25,25,75]"
   ]
  },
  {
   "cell_type": "code",
   "execution_count": 13,
   "metadata": {},
   "outputs": [
    {
     "data": {
      "text/plain": [
       "(0.0, 1219.05)"
      ]
     },
     "execution_count": 13,
     "metadata": {},
     "output_type": "execute_result"
    },
    {
     "data": {
      "image/png": "[encoded data removed]",
      "text/plain": [
       "<Figure size 640x480 with 1 Axes>"
      ]
     },
     "metadata": {},
     "output_type": "display_data"
    }
   ],
   "source": [
    "plt.hist(df['xtrue'],bins=np.linspace(-80,80,50))\n",
    "plt.xlabel(r'$x$ [um]')\n",
    "\n",
    "ylim=plt.ylim()\n",
    "for b in bounds:\n",
    "    plt.plot([b,b],ylim,color='gray')\n",
    "plt.ylim(ylim)"
   ]
  },
  {
   "cell_type": "code",
   "execution_count": 14,
   "metadata": {},
   "outputs": [
    {
     "name": "stdout",
     "output_type": "stream",
     "text": [
      "-0.19064791606510062 7.308218107239704\n"
     ]
    },
    {
     "data": {
      "image/png": "[encoded data removed]",
      "text/plain": [
       "<Figure size 640x480 with 1 Axes>"
      ]
     },
     "metadata": {},
     "output_type": "display_data"
    }
   ],
   "source": [
    "# Residuals\n",
    "residuals = df['xtrue'] - df['mu']\n",
    "print(np.mean(residuals),np.std(residuals))\n",
    "\n",
    "plt.hist(residuals,bins=np.linspace(-50,50,50))\n",
    "plt.xlabel(r'$x-\\mu_x$ [um]')\n",
    "plt.show()"
   ]
  },
  {
   "cell_type": "code",
   "execution_count": 15,
   "metadata": {},
   "outputs": [
    {
     "name": "stdout",
     "output_type": "stream",
     "text": [
      "6.206565 2.36978\n"
     ]
    },
    {
     "data": {
      "image/png": "[encoded data removed]",
      "text/plain": [
       "<Figure size 640x480 with 1 Axes>"
      ]
     },
     "metadata": {},
     "output_type": "display_data"
    }
   ],
   "source": [
    "# Uncertainty\n",
    "uncertainty= df['sigma']\n",
    "print(np.mean(uncertainty),np.std(uncertainty))\n",
    "\n",
    "plt.hist(uncertainty,bins=np.linspace(0,25,50));\n",
    "plt.xlabel(r'$\\sigma_x$ [um]')\n",
    "plt.show()"
   ]
  },
  {
   "cell_type": "code",
   "execution_count": 16,
   "metadata": {},
   "outputs": [
    {
     "data": {
      "text/plain": [
       "(-5.499576441637101, 5.613936464103293)"
      ]
     },
     "execution_count": 16,
     "metadata": {},
     "output_type": "execute_result"
    },
    {
     "data": {
      "image/png": "[encoded data removed]",
      "text/plain": [
       "<Figure size 640x480 with 1 Axes>"
      ]
     },
     "metadata": {},
     "output_type": "display_data"
    }
   ],
   "source": [
    "# Residuals vs true x\n",
    "\n",
    "x = sns.regplot(x=df['xtrue'], y=df['xtrue']-df['mu'], x_bins=np.linspace(-80,80,50), fit_reg=None, marker='.')\n",
    "plt.xlabel(r'True $x$ [um]')\n",
    "plt.ylabel(r'$x-\\mu_x$ [um]')\n",
    "\n",
    "ylim=plt.ylim()\n",
    "for b in bounds:\n",
    "    plt.plot([b,b],ylim,color='gray')\n",
    "plt.ylim(ylim)"
   ]
  },
  {
   "cell_type": "code",
   "execution_count": 17,
   "metadata": {},
   "outputs": [
    {
     "data": {
      "text/plain": [
       "(4.9962825119495395, 7.090526908636093)"
      ]
     },
     "execution_count": 17,
     "metadata": {},
     "output_type": "execute_result"
    },
    {
     "data": {
      "image/png": "[encoded data removed]",
      "text/plain": [
       "<Figure size 640x480 with 1 Axes>"
      ]
     },
     "metadata": {},
     "output_type": "display_data"
    }
   ],
   "source": [
    "# Uncertainty vs true x\n",
    "x = sns.regplot(x=df['xtrue'], y=df['sigma'], x_bins=np.linspace(-80,80,50), fit_reg=None, marker='.')\n",
    "plt.xlabel(r'True $x$ [um]')\n",
    "plt.ylabel(r'$\\sigma_x$ [um]')\n",
    "\n",
    "ylim=plt.ylim()\n",
    "for b in bounds:\n",
    "    plt.plot([b,b],ylim,color='gray')\n",
    "plt.ylim(ylim)"
   ]
  },
  {
   "cell_type": "code",
   "execution_count": 18,
   "metadata": {},
   "outputs": [
    {
     "name": "stdout",
     "output_type": "stream",
     "text": [
      "-0.032781535683475305 1.0855411512713602\n"
     ]
    },
    {
     "data": {
      "text/plain": [
       "(0.1, 100000.0)"
      ]
     },
     "execution_count": 18,
     "metadata": {},
     "output_type": "execute_result"
    },
    {
     "data": {
      "image/png": "[encoded data removed]",
      "text/plain": [
       "<Figure size 640x480 with 1 Axes>"
      ]
     },
     "metadata": {},
     "output_type": "display_data"
    }
   ],
   "source": [
    "# Pulls\n",
    "df['pulls'] = residuals/df['sigma']\n",
    "print(np.mean(df['pulls']),np.std(df['pulls']))\n",
    "\n",
    "plt.hist(df['pulls'],bins=np.linspace(-20,20,50));\n",
    "plt.xlabel('pull')\n",
    "\n",
    "x_axis = np.arange(-20, 20, 0.01)\n",
    "width = 40/50.\n",
    "plt.plot(x_axis, len(df)*norm.pdf(x_axis, 0, 1)*width,color='gray')\n",
    "plt.yscale('log')\n",
    "\n",
    "plt.ylim(0.1,1e5)"
   ]
  },
  {
   "cell_type": "code",
   "execution_count": null,
   "metadata": {},
   "outputs": [],
   "source": []
  },
  {
   "cell_type": "code",
   "execution_count": null,
   "metadata": {},
   "outputs": [],
   "source": []
  }
 ],
 "metadata": {
  "kernelspec": {
   "display_name": "Python 3 (ipykernel)",
   "language": "python",
   "name": "py3-preamble"
  },
  "language_info": {
   "codemirror_mode": {
    "name": "ipython",
    "version": 3
   },
   "file_extension": ".py",
   "mimetype": "text/x-python",
   "name": "python",
   "nbconvert_exporter": "python",
   "pygments_lexer": "ipython3",
   "version": "3.9.14"
  }
 },
 "nbformat": 4,
 "nbformat_minor": 4
}
